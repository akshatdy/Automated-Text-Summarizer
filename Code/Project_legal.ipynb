{
  "cells": [
    {
      "cell_type": "code",
      "execution_count": null,
      "id": "0fd1c18f",
      "metadata": {
        "colab": {
          "base_uri": "https://localhost:8080/"
        },
        "id": "0fd1c18f",
        "outputId": "d3127d61-0ac6-4983-eb45-f7a46a8d85a3"
      },
      "outputs": [
        {
          "output_type": "stream",
          "name": "stderr",
          "text": [
            "[nltk_data] Downloading package punkt to /root/nltk_data...\n",
            "[nltk_data]   Unzipping tokenizers/punkt.zip.\n",
            "[nltk_data] Downloading package stopwords to /root/nltk_data...\n",
            "[nltk_data]   Unzipping corpora/stopwords.zip.\n"
          ]
        }
      ],
      "source": [
        "import nltk\n",
        "nltk.download('punkt')\n",
        "nltk.download('stopwords')\n",
        "from nltk.corpus import stopwords\n",
        "from nltk.tokenize import word_tokenize, sent_tokenize\n",
        "from nltk.stem import PorterStemmer\n",
        "from sklearn.feature_extraction.text import TfidfVectorizer\n",
        "from sklearn.metrics.pairwise import cosine_similarity\n",
        "import numpy as np\n",
        "import pandas as pd\n"
      ]
    },
    {
      "cell_type": "code",
      "source": [
        "from google.colab import drive\n",
        "drive.mount('/content/drive')"
      ],
      "metadata": {
        "colab": {
          "base_uri": "https://localhost:8080/"
        },
        "id": "yEMBAGijccFX",
        "outputId": "9a5cea13-9014-4379-aefa-c797ad2347c9"
      },
      "id": "yEMBAGijccFX",
      "execution_count": null,
      "outputs": [
        {
          "output_type": "stream",
          "name": "stdout",
          "text": [
            "Mounted at /content/drive\n"
          ]
        }
      ]
    },
    {
      "cell_type": "code",
      "source": [
        "data = pd.read_csv('/content/drive/MyDrive/training_data_abs.csv', sep='\\t')"
      ],
      "metadata": {
        "id": "QWbp59DJcj5U"
      },
      "id": "QWbp59DJcj5U",
      "execution_count": null,
      "outputs": []
    },
    {
      "cell_type": "code",
      "source": [
        "data"
      ],
      "metadata": {
        "colab": {
          "base_uri": "https://localhost:8080/",
          "height": 424
        },
        "id": "CdIpZ75Vc5Oa",
        "outputId": "5d07f699-9f70-4e6c-ce4b-2e0af0d19278"
      },
      "id": "CdIpZ75Vc5Oa",
      "execution_count": null,
      "outputs": [
        {
          "output_type": "display_data",
          "data": {
            "text/plain": [
              "<IPython.core.display.HTML object>"
            ],
            "text/html": [
              "\n",
              "  <style>\n",
              "    pre {\n",
              "        white-space: pre-wrap;\n",
              "    }\n",
              "  </style>\n",
              "  "
            ]
          },
          "metadata": {}
        },
        {
          "output_type": "execute_result",
          "data": {
            "text/plain": [
              "      Judgment_ID                                           Judgment  \\\n",
              "5414         5493  Special Leave Petition No. 1900 of 1981 etc. F...   \n",
              "6086         6175  ecial Leave Petition (C) No. 5628 of 1988. Fro...   \n",
              "4754         4822  r Petition (Civil) No. 344 of 1983. Under arti...   \n",
              "5065         5137  Special Leave Petition (Civil) No. 11638 of 19...   \n",
              "5082         5156  : Criminal Appeal Nos. 563 64 of 1986 From the...   \n",
              "...           ...                                                ...   \n",
              "2158         2189  : Writ Petition No. 153 of 1966. (Under Articl...   \n",
              "4590         4656  N: Criminal Appeal No. 273 of 1979. Appeal by ...   \n",
              "66             67  eference No. 1 of 1951. The circumstances whic...   \n",
              "33             34  No. XIII of 1950. Application under article 32...   \n",
              "3445         3498  : Criminal Appeal No. 279 of 1975. (From the J...   \n",
              "\n",
              "                                                Summary     len  \n",
              "5414  % In exercise of the powers conferred by Secti...     593  \n",
              "6086  Applying the principle enunciated in Atma Ram ...    1063  \n",
              "4754  A petition for withdrawing a writ petition pen...    1102  \n",
              "5065  In a petition for special leave against an int...    1244  \n",
              "5082  HELD: 1. The fact that the offences, if any, a...    1274  \n",
              "...                                                 ...     ...  \n",
              "2158  The validity of the Punjab Security of Land Te...  465169  \n",
              "4590  Upholding the constitutionality of section 302...  480155  \n",
              "66    Section 7 of the , provided that The Provincia...  491396  \n",
              "33    The petitioner who was detained under the Prev...  516385  \n",
              "3445  174 In exercise of the powers conferred by Cla...  806339  \n",
              "\n",
              "[7030 rows x 4 columns]"
            ],
            "text/html": [
              "\n",
              "  <div id=\"df-297930be-229d-4abc-a90b-4f5b10fa0a22\">\n",
              "    <div class=\"colab-df-container\">\n",
              "      <div>\n",
              "<style scoped>\n",
              "    .dataframe tbody tr th:only-of-type {\n",
              "        vertical-align: middle;\n",
              "    }\n",
              "\n",
              "    .dataframe tbody tr th {\n",
              "        vertical-align: top;\n",
              "    }\n",
              "\n",
              "    .dataframe thead th {\n",
              "        text-align: right;\n",
              "    }\n",
              "</style>\n",
              "<table border=\"1\" class=\"dataframe\">\n",
              "  <thead>\n",
              "    <tr style=\"text-align: right;\">\n",
              "      <th></th>\n",
              "      <th>Judgment_ID</th>\n",
              "      <th>Judgment</th>\n",
              "      <th>Summary</th>\n",
              "      <th>len</th>\n",
              "    </tr>\n",
              "  </thead>\n",
              "  <tbody>\n",
              "    <tr>\n",
              "      <th>5414</th>\n",
              "      <td>5493</td>\n",
              "      <td>Special Leave Petition No. 1900 of 1981 etc. F...</td>\n",
              "      <td>% In exercise of the powers conferred by Secti...</td>\n",
              "      <td>593</td>\n",
              "    </tr>\n",
              "    <tr>\n",
              "      <th>6086</th>\n",
              "      <td>6175</td>\n",
              "      <td>ecial Leave Petition (C) No. 5628 of 1988. Fro...</td>\n",
              "      <td>Applying the principle enunciated in Atma Ram ...</td>\n",
              "      <td>1063</td>\n",
              "    </tr>\n",
              "    <tr>\n",
              "      <th>4754</th>\n",
              "      <td>4822</td>\n",
              "      <td>r Petition (Civil) No. 344 of 1983. Under arti...</td>\n",
              "      <td>A petition for withdrawing a writ petition pen...</td>\n",
              "      <td>1102</td>\n",
              "    </tr>\n",
              "    <tr>\n",
              "      <th>5065</th>\n",
              "      <td>5137</td>\n",
              "      <td>Special Leave Petition (Civil) No. 11638 of 19...</td>\n",
              "      <td>In a petition for special leave against an int...</td>\n",
              "      <td>1244</td>\n",
              "    </tr>\n",
              "    <tr>\n",
              "      <th>5082</th>\n",
              "      <td>5156</td>\n",
              "      <td>: Criminal Appeal Nos. 563 64 of 1986 From the...</td>\n",
              "      <td>HELD: 1. The fact that the offences, if any, a...</td>\n",
              "      <td>1274</td>\n",
              "    </tr>\n",
              "    <tr>\n",
              "      <th>...</th>\n",
              "      <td>...</td>\n",
              "      <td>...</td>\n",
              "      <td>...</td>\n",
              "      <td>...</td>\n",
              "    </tr>\n",
              "    <tr>\n",
              "      <th>2158</th>\n",
              "      <td>2189</td>\n",
              "      <td>: Writ Petition No. 153 of 1966. (Under Articl...</td>\n",
              "      <td>The validity of the Punjab Security of Land Te...</td>\n",
              "      <td>465169</td>\n",
              "    </tr>\n",
              "    <tr>\n",
              "      <th>4590</th>\n",
              "      <td>4656</td>\n",
              "      <td>N: Criminal Appeal No. 273 of 1979. Appeal by ...</td>\n",
              "      <td>Upholding the constitutionality of section 302...</td>\n",
              "      <td>480155</td>\n",
              "    </tr>\n",
              "    <tr>\n",
              "      <th>66</th>\n",
              "      <td>67</td>\n",
              "      <td>eference No. 1 of 1951. The circumstances whic...</td>\n",
              "      <td>Section 7 of the , provided that The Provincia...</td>\n",
              "      <td>491396</td>\n",
              "    </tr>\n",
              "    <tr>\n",
              "      <th>33</th>\n",
              "      <td>34</td>\n",
              "      <td>No. XIII of 1950. Application under article 32...</td>\n",
              "      <td>The petitioner who was detained under the Prev...</td>\n",
              "      <td>516385</td>\n",
              "    </tr>\n",
              "    <tr>\n",
              "      <th>3445</th>\n",
              "      <td>3498</td>\n",
              "      <td>: Criminal Appeal No. 279 of 1975. (From the J...</td>\n",
              "      <td>174 In exercise of the powers conferred by Cla...</td>\n",
              "      <td>806339</td>\n",
              "    </tr>\n",
              "  </tbody>\n",
              "</table>\n",
              "<p>7030 rows × 4 columns</p>\n",
              "</div>\n",
              "      <button class=\"colab-df-convert\" onclick=\"convertToInteractive('df-297930be-229d-4abc-a90b-4f5b10fa0a22')\"\n",
              "              title=\"Convert this dataframe to an interactive table.\"\n",
              "              style=\"display:none;\">\n",
              "        \n",
              "  <svg xmlns=\"http://www.w3.org/2000/svg\" height=\"24px\"viewBox=\"0 0 24 24\"\n",
              "       width=\"24px\">\n",
              "    <path d=\"M0 0h24v24H0V0z\" fill=\"none\"/>\n",
              "    <path d=\"M18.56 5.44l.94 2.06.94-2.06 2.06-.94-2.06-.94-.94-2.06-.94 2.06-2.06.94zm-11 1L8.5 8.5l.94-2.06 2.06-.94-2.06-.94L8.5 2.5l-.94 2.06-2.06.94zm10 10l.94 2.06.94-2.06 2.06-.94-2.06-.94-.94-2.06-.94 2.06-2.06.94z\"/><path d=\"M17.41 7.96l-1.37-1.37c-.4-.4-.92-.59-1.43-.59-.52 0-1.04.2-1.43.59L10.3 9.45l-7.72 7.72c-.78.78-.78 2.05 0 2.83L4 21.41c.39.39.9.59 1.41.59.51 0 1.02-.2 1.41-.59l7.78-7.78 2.81-2.81c.8-.78.8-2.07 0-2.86zM5.41 20L4 18.59l7.72-7.72 1.47 1.35L5.41 20z\"/>\n",
              "  </svg>\n",
              "      </button>\n",
              "      \n",
              "  <style>\n",
              "    .colab-df-container {\n",
              "      display:flex;\n",
              "      flex-wrap:wrap;\n",
              "      gap: 12px;\n",
              "    }\n",
              "\n",
              "    .colab-df-convert {\n",
              "      background-color: #E8F0FE;\n",
              "      border: none;\n",
              "      border-radius: 50%;\n",
              "      cursor: pointer;\n",
              "      display: none;\n",
              "      fill: #1967D2;\n",
              "      height: 32px;\n",
              "      padding: 0 0 0 0;\n",
              "      width: 32px;\n",
              "    }\n",
              "\n",
              "    .colab-df-convert:hover {\n",
              "      background-color: #E2EBFA;\n",
              "      box-shadow: 0px 1px 2px rgba(60, 64, 67, 0.3), 0px 1px 3px 1px rgba(60, 64, 67, 0.15);\n",
              "      fill: #174EA6;\n",
              "    }\n",
              "\n",
              "    [theme=dark] .colab-df-convert {\n",
              "      background-color: #3B4455;\n",
              "      fill: #D2E3FC;\n",
              "    }\n",
              "\n",
              "    [theme=dark] .colab-df-convert:hover {\n",
              "      background-color: #434B5C;\n",
              "      box-shadow: 0px 1px 3px 1px rgba(0, 0, 0, 0.15);\n",
              "      filter: drop-shadow(0px 1px 2px rgba(0, 0, 0, 0.3));\n",
              "      fill: #FFFFFF;\n",
              "    }\n",
              "  </style>\n",
              "\n",
              "      <script>\n",
              "        const buttonEl =\n",
              "          document.querySelector('#df-297930be-229d-4abc-a90b-4f5b10fa0a22 button.colab-df-convert');\n",
              "        buttonEl.style.display =\n",
              "          google.colab.kernel.accessAllowed ? 'block' : 'none';\n",
              "\n",
              "        async function convertToInteractive(key) {\n",
              "          const element = document.querySelector('#df-297930be-229d-4abc-a90b-4f5b10fa0a22');\n",
              "          const dataTable =\n",
              "            await google.colab.kernel.invokeFunction('convertToInteractive',\n",
              "                                                     [key], {});\n",
              "          if (!dataTable) return;\n",
              "\n",
              "          const docLinkHtml = 'Like what you see? Visit the ' +\n",
              "            '<a target=\"_blank\" href=https://colab.research.google.com/notebooks/data_table.ipynb>data table notebook</a>'\n",
              "            + ' to learn more about interactive tables.';\n",
              "          element.innerHTML = '';\n",
              "          dataTable['output_type'] = 'display_data';\n",
              "          await google.colab.output.renderOutput(dataTable, element);\n",
              "          const docLink = document.createElement('div');\n",
              "          docLink.innerHTML = docLinkHtml;\n",
              "          element.appendChild(docLink);\n",
              "        }\n",
              "      </script>\n",
              "    </div>\n",
              "  </div>\n",
              "  "
            ]
          },
          "metadata": {},
          "execution_count": 32
        }
      ]
    },
    {
      "cell_type": "code",
      "execution_count": null,
      "id": "ff9a5a2b",
      "metadata": {
        "id": "ff9a5a2b"
      },
      "outputs": [],
      "source": [
        "def preprocess_text(text):\n",
        "    # Tokenize the text into sentences and words\n",
        "    sentences = sent_tokenize(text)\n",
        "    words = [word_tokenize(sentence) for sentence in sentences]\n",
        "\n",
        "    # Remove stopwords and perform stemming\n",
        "    stop_words = set(stopwords.words('english'))\n",
        "    stemmer = PorterStemmer()\n",
        "    processed_words = []\n",
        "    for sentence in words:\n",
        "        processed_sentence = [stemmer.stem(word.lower()) for word in sentence if word.lower() not in stop_words]\n",
        "        processed_words.append(' '.join(processed_sentence))\n",
        "\n",
        "    return processed_words"
      ]
    },
    {
      "cell_type": "code",
      "source": [
        "def calculate_similarity_matrix(sentences):\n",
        "    # Create a TF-IDF vectorizer\n",
        "    vectorizer = TfidfVectorizer()\n",
        "\n",
        "    # Fit and transform the preprocessed sentences\n",
        "    tfidf_matrix = vectorizer.fit_transform(sentences)\n",
        "\n",
        "    # Calculate the cosine similarity matrix\n",
        "    similarity_matrix = np.dot(tfidf_matrix, tfidf_matrix.T)\n",
        "\n",
        "    return similarity_matrix\n"
      ],
      "metadata": {
        "id": "VAtyO0yCcNru"
      },
      "id": "VAtyO0yCcNru",
      "execution_count": null,
      "outputs": []
    },
    {
      "cell_type": "code",
      "source": [
        "def extractive_summarization(text, num_sentences):\n",
        "    # Preprocess the text\n",
        "    processed_sentences = preprocess_text(text)\n",
        "\n",
        "    # Calculate similarity matrix\n",
        "    similarity_matrix = calculate_similarity_matrix(processed_sentences)\n",
        "\n",
        "    # Calculating sum of similarity matrix\n",
        "    scores = similarity_matrix.sum(axis=1)\n",
        "\n",
        "    # Rank sentences based on scores\n",
        "    ranked_sentences = sorted(((score, idx) for idx, score in enumerate(scores)), reverse=True)\n",
        "\n",
        "    # Select the top N sentences as the summary\n",
        "    sentences = sent_tokenize(text)\n",
        "    summary_sentences = [sentences[idx] for _, idx in ranked_sentences[:num_sentences]]\n",
        "    summary = ' '.join(summary_sentences)\n",
        "\n",
        "    return summary"
      ],
      "metadata": {
        "id": "Q1iN-lctcT1w"
      },
      "id": "Q1iN-lctcT1w",
      "execution_count": null,
      "outputs": []
    },
    {
      "cell_type": "code",
      "source": [
        "# Example usage\n",
        "\n",
        "judgment = data.iloc[1][1]\n",
        "\n",
        "actual_summary = data.iloc[1][2]\n",
        "summary = extractive_summarization(judgment, 5)\n",
        "print(\"Actual summary:\\n\")\n",
        "print(actual_summary)\n",
        "print(\"\\n\\nGenerated summary:\\n\")\n",
        "print(summary)"
      ],
      "metadata": {
        "colab": {
          "base_uri": "https://localhost:8080/",
          "height": 176
        },
        "id": "WMc4YApFcX8M",
        "outputId": "90272476-2f3a-4a1b-e02e-000ce57de1d7"
      },
      "id": "WMc4YApFcX8M",
      "execution_count": null,
      "outputs": [
        {
          "output_type": "display_data",
          "data": {
            "text/plain": [
              "<IPython.core.display.HTML object>"
            ],
            "text/html": [
              "<style>pre, code, tt { overflow-wrap: break-word; }</style>"
            ]
          },
          "metadata": {}
        },
        {
          "output_type": "stream",
          "name": "stdout",
          "text": [
            "Actual summary:\n",
            "\n",
            "Section 7 (1) (c) of the East Punjab Public Safety Act, 1949, as extended to the Province of Delhi provided that the Provincial Government or any authority authorised by it in this behalf, if satisfied that such action is necessary for preventing or combating any activity prejudicial to the public safety or the maintenance of public order may, by order in writing addressed to a a printer, publisher or editor require that any matter relating to a 606 particular subject or class of subjects shall before publi cation be submitted for scrutiny.  Held per KANIA C. J., PATANJALI SASTRI, MEHR CHAND MAHAJAN, MUKHERJEA and DAS JJ. (FAZL ALI J. dissenting) that inasmuch as section 7 (1) (c) authorised the imposition of restrictions on the fundamental right of freedom of speech and expression guaranteed by article 19 (1.) (a) of the Consti tution for the purpose of preventing activities prejudicial to public safety and maintenance of public order, it was not a law relating to a matter which undermines the security of or tends to overthrow, the State within the meaning of the saving provisions contained in cl. (9.) of article 19 and was therefore unconstitutional and void. Romesh Thappar vs The State ([1950] S.C.R. 594) followed. Per FAZL ALI J. The expression public safety has, as a result of a long course of legislative practice acquired a well recognised meaning and may be taken to denote safety or security of the State; and, though the expression public order is wide enough to cover small disturbances of the peace which do not jeopardise the security of the State yet, prominence given in the Act to public safety, the fact that the Act is a piece of special legislation providing for special measures and the aim and scope of the Act in gener al, show that preservation of public safety is the dominant purpose of the Act, and public order may well be para phrased in the context as public tranquillity. Public disorders which disturb the public tranquillity do undermine the security of the State and as section 7 (1) (c) of the im pugned Act is aimed at preventing such disorders it is difficult to hold that it falls outside the ambit of article 19 (2) of the Constitution. Held by the Full Court. The imposition of pre censor ship on a journal is a restriction on the liberty of the press which is an essential part of the right to freedom of speech and expression declared by article 19 (1)(a). Black stone s Commentaries referred to. \n",
            "\n",
            "\n",
            "Generated summary:\n",
            "\n",
            "It was argued that public safety and maintenance of public order are used in the Act disjunctively and they are separated by the word or and not and, and therefore we cannot rule out the possibility of the Act providing for ordinary as well as serious cases of disturbance of public order and tranquillity. The question raised in this case relates to the validity of section 7 (1) (c) of the East Punjab Public Safety Act, 1949 (as extended to the Province of Delhi), which runs as follows : The Provincial Government or any authority authorised by it in this behalf if satisfied that such action is neces sary for the purpose of preventing or combating any activity prejudicial to the public safety or the maintenance of public order, may, by order in writing addressed to a print er, publisher or editor * * * * (c) require that any matter relating to a particular subject or class of subjects shall before publication be submitted for scrutiny; It should be noted that the provisions of sub clause (c) arc not in general terms but are confined to a particular subject or class of subjects, and that having regard to the context in which these words are used, they must be connect ed with public safety or the maintenance of public order. On 2nd March, 1950, the respondent, in exercise of powers conferred on him by section 7 (1) (c) of the East Punjab Public Safety Act, 1949, which has been extended to the Delhi Province and is hereinafter referred to as the impugned Act, issued the following order: Whereas the Chief Commissioner, Delhi, is satisfied that Organizer, an English weekly of Delhi, has been pub lishing highly objectionable matter constituting a threat to public law and order and that action as is hereinafter mentioned is necessary for the purpose of preventing or combating activities prejudicial to the public safety or the maintenance of public order. I think that public order may well be paraphrased in the context as public tranquillity and the words public safety and public order may be read as equivalent to security of the State and public tran quillity. It is contended that section 7 (1)(c) of the Act, under which the impugned order has been made, cannot be saved by clause (2) of article 19 of the Constitution, because it does not relate to any matter which undermines the security of, or tends to overthrow, the State.\n"
          ]
        }
      ]
    },
    {
      "cell_type": "code",
      "source": [
        "print(judgment)"
      ],
      "metadata": {
        "id": "3ifcoewCjSSP",
        "outputId": "e80f59c2-e6aa-4928-c424-e0681da254dd",
        "colab": {
          "base_uri": "https://localhost:8080/"
        }
      },
      "id": "3ifcoewCjSSP",
      "execution_count": null,
      "outputs": [
        {
          "output_type": "stream",
          "name": "stdout",
          "text": [
            "XXIX of 1950. Application under article 32 of the Constitution of India for a writ of certiorari and prohibition. The facts are stated in the judgment. N.C. Chatterjee (B. Banerji, with him) for the petition er. M.C. Setalvad, Attorney General for India, (section M. Sikri, with him) for the respondent. May 26. The judgment of Kania C.J., Patanjali Sastri, Mehr Chand Mahajan, Mukherjea and Das JJ. was deliv ered by Patanjali Sastri J. Fazl Ali J. delivered a separate dissenting judgment, 607 PATANJALI SASTRI J. This is an application under arti cle 32 of the Constitution praying for the issue of writs of certiorari and prohibition to the respondent, the Chief Commissioner of Delhi, with a view to examine the legality of and quash the order made by him in regard to an English weekly of Delhi called the Organizer of which the first applicant is the printer and publisher, and the second is the editor. On 2nd March, 1950, the respondent, in exercise of powers conferred on him by section 7 (1) (c) of the East Punjab Public Safety Act, 1949, which has been extended to the Delhi Province and is hereinafter referred to as the impugned Act, issued the following order: Whereas the Chief Commissioner, Delhi, is satisfied that Organizer, an English weekly of Delhi, has been pub lishing highly objectionable matter constituting a threat to public law and order and that action as is hereinafter mentioned is necessary for the purpose of preventing or combating activities prejudicial to the public safety or the maintenance of public order. Now there more in exercise of the powers conferred by section 7 (1)(c) of the East Punjab Public Safety Act, 1949, as extended to the Delhi Province, I, Shankar Prasad, Chief Commissioner, Delhi, do by this order require you Shri Brij Bhushan, Printer and Publisher and Shri K.R. Halkani, Editor of the aforesaid paper to submit for scrutiny, in duplicate, before publication, till further orders, all communal matter and news and views about Pakistan including photographs and cartoons other than those derived from official sources or supplied by the news agencies, viz., Press Trust of India, United Press of India and United Press of America to the Provincial Press Officer, or in his absence, to Superintend ent of Press Branch at his office at 5, Alipur Road, Civil Lines, Delhi, between the hours 10 a.m. and 5 p.m. on work ing days.  The only point argued before us relates to the consti tutional validity of section 7 (1) (c) of the impugned Act which, as appears from its preamble, was passed to provide special measures to ensure public safety 608 and maintenance of public order.  Section 7 (1) (c) under which the aforesaid order purports to have been made reads (so far as material here) as follows : The Provincial Government or any authority authorised by it in this behalf if satisfied that such action is neces sary for the purpose of preventing or combating any activity prejudicial to the public safety or the maintenance of public order may, by order in writing addressed to a print er, publisher or editor require that any matter relating to a particular subject or class of subjects shall before publication be submitted for scrutiny. The petitioners claim that this provision infringes the fundamental right to the freedom of speech and expression conferred upon them by article 19 (1) (a) of the Constitu tion inasmuch as it authorises the imposition of a restric tion on the publication of the journal which is not justi fied under clause (2) of that article. There can be little doubt that the imposition of precen sorship on a journal is a restriction on the liberty of the press which is an essential part of the right to freedom of speech and expression declared by article 19 (1)(a). As pointed out by Blackstone in his Commentaries the liberty of the press consists in laying no previous restraint upon publications, and not in freedom from censure for criminal matter when published. Every freeman has an undoubted right to lay what sentiments he pleases before the public; to forbid this, is to destroy the freedom of the press(1). The only question therefore is whether section 7 (1)(c) which authorises the imposition of such a restriction falls within the reservation of clause (2) of article 19. As this question turns on considerations which are essentially the same as those on which our decision in Petition No. XVI of 1950(2) was based, our judgment in that case concludes the present case also. Accordingly, for the reasons indicated in that judgment, we allow this petition and hereby quash the impugned order of the Chief Commission er, Delhi, dated the 2nd March, 1950. (1) Blackstone s Commentaries, Vol. IV, pp. 151, 152. (2) Romesh Thappar vs The State of Madras, supra p. 594. 609 FAZL ALI J. The question raised in this case relates to the validity of section 7 (1) (c) of the East Punjab Public Safety Act, 1949 (as extended to the Province of Delhi), which runs as follows : The Provincial Government or any authority authorised by it in this behalf if satisfied that such action is neces sary for the purpose of preventing or combating any activity prejudicial to the public safety or the maintenance of public order, may, by order in writing addressed to a print er, publisher or editor * * * * (c) require that any matter relating to a particular subject or class of subjects shall before publication be submitted for scrutiny; It should be noted that the provisions of sub clause (c) arc not in general terms but are confined to a particular subject or class of subjects, and that having regard to the context in which these words are used, they must be connect ed with public safety or the maintenance of public order.  The petitioners, on whose behalf this provision is assailed, are respectively the printer (and publisher) and editor of an English weekly of Delhi called Organizer, and they pray for the issue of writs of certiorari and prohibi tion to the Chief Commissioner, Delhi, with a view  to examine and review the legality of and restrain the operation of and quash the order made by him on the 2nd March, 1950, under the impugned section, directing them to submit for scrutiny, in duplicate, before publication, till further orders, all communal matter and news and views about Pakistan including photographs and cartoons other than those derived from official sources or supplied by the news agencies.  The order in question recites among other things that the Chief Commissioner is satisfied that the Organizer has been publishing highly objectionable matter constituting a threat to public law and order and that action to which reference has been made is necessary for the purpose of preventing or combating activities 610 prejudicial to the public safety or the maintenance of public order. It is contended on behalf of the petitioners that notwithstanding these recitals the order complained against is liable to be quashed, because it amounts to an infringement of the right of freedom of speech and expres sion guaranteed by article 19 (1) (a) of the Constitution. Articles 19 (1) (a) and (2), which are to be read together, run as follows : 19, (1) All citizens shall have the right (a) to freedom of speech and expression; * * * * (2) Nothing in sub clause (a) of clause (1) shall affect the operation of any existing law in so far as it relates to, or prevent the State from making any law relating to, libel, slander, defamation, contempt of Court or any matter which offends against decency or morality or which under mines the security of, or tends to overthrow, the State.  It is contended that section 7 (1)(c) of the Act, under which the impugned order has been made, cannot be saved by clause (2) of article 19 of the Constitution, because it does not relate to any matter which undermines the security of, or tends to overthrow, the State. Thus the main ground of attack is that the impugned law is an infringement of a fundamental right and is not saved by the so called saving clause to which reference has been made. There can be no doubt that to impose pre censorship on a journal, such as has been ordered by the Chief Commissioner in this case, is a restriction on the liberty of the press which is included in the right to freedom of speech and expression guaranteed by article 19 (1) (a) of the Constitu tion, and the only question which we have therefore to decide is whether clause (2) of article 19 stands in the way of the petitioners. The East Punjab Public Safety Act, 1949, of which sec tion 7 is a part, was passed by the Provincial Legislature in exercise of the power conferred upon it by section 100 of the Government of India Act, 1935, is 611 read with Entry 1 of List II of the Seventh Schedule to that Act, which includes among other matters public order. This expression in the general sense may be construed to have reference to the maintenance of what is generally known as law and order in the Province, and this is confirmed by the words which follow it in Entry 1 of List II and which have been put within brackets, viz., but not including the use of naval, military or air forces or any other armed forces of the Union in aid of the civil power.  It is clear that anything which affects public tranquillity within the State or the Province will also affect public order and the State Legislature is therefore competent to frame laws on matters relating to public tranquillity and public order. It was not disputed that under the Government of India Act, 1935 (under, which the impugned Act was passed) it was the responsibility of each Province to deal with all internal disorders whatever their magnitude may be and to preserve public tranquillity and order within the Province. At this stage, it will be convenient to consider the meaning of another expression public safety which is used throughout the impugned Act and which is also chosen by its framers for its title. This expression, though it has been variously used in different contexts (see the Indian Penal Code, Ch. XIV), has now acquired a well recognized meaning in relation to an Act like the impugned Act, as a result of a long course of legislative practice, and may be taken to denote safety or security of the State. In this sense, it was used in the Defence of the Realm (Consolidation) Act, 1914, as well as the Defence of India Act. and this is how it was judicially interpreted in Rex vs Governor of Wormwood Scrubbs Prison(1). The headnote of this case runs as follows By section 1 of the Defence of the Realm (Consolidation) Act, 1914, power was given to His Majesty in Council during the continuance of the present war to issue regula tions . for securing the public safety and the de fence of the realm  : (1) 612 Held, that the regulations thereby authorized were not limited to regulations for the protection of the country against foreign enemies, but included regulations designed for the prevention of internal disorder and rebellion  Thus public order  and public safety  are allied matters, but, in order to appreciate how they stand in relation to each other, it seems best to direct our atten tion to the opposite concepts which we may, for convenience of reference, respectively label as public disorder  and public unsafety . If public safety  is, as we have seen, equivalent to security of the State , what I have designat ed as public unsafety may be regarded as equivalent to insecurity of the State . When we approach the matter in this way, we find that while public disorder  iS wide enough to cover a small riot or an affray and other cases where peace is disturbed by, or affects, a small group of persons, public unsafety  (or insecurity of the State), will usually be connected with serious internal disorders and such disturbances of public tranquillity as jeopardize the security of the State. In order to understand the scope of the Act, it will be necessary to note that in the Act maintenance of public order always occurs in juxtaposition with public safety, and the Act itself is called The East Punjab Public Safety Act.  The prominence thus given to public safety  strongly suggests that the Act was intended to deal with serious cases of public disorder which affect public safety or the security of the State, or cases in which, owing to some kind of emergency or a grave situation having arisen, even public disorders of comparatively small dimensions may have far reaching effects on the security of the State. It is to be noted that the Act purports to provide special measures to ensure public safety and maintenance of public order.  The words special measures are rather important, because they show that the Act was not intended for ordinary cases or ordinary situations. The ordinary cases are provided for by the Penal Code and other existing laws, and 613 with these the Act which purports to be of a temporary Act is not apparently concerned. It is concerned with special measures which would presumably be required for special cases or special situations. Once this important fact is grasped and the Act is viewed in the proper perspective, much of the confusion which has been created in the course of the arguments will disappear. The line of argument advanced on behalf of the petitioners is that since the Act has been passed in exercise of the power granted by the expression public order, used in the Government of India Act, which is a general term of wide import, and since it purports to provide for the maintenance of public order, its provisions are intended or are liable to be used for all cases of breaches of public order, be they small or insig nificant breaches or those of a grave or serious nature. This is, in my opinion, approaching the case from a wrong angle. The Act is a piece of special legislation providing for special measures and the central idea dominating it is public safety and maintenance of public order in a situation requiring special measures. It was argued that public safety and maintenance of public order are used in the Act disjunctively and they are separated by the word or and not and, and therefore we cannot rule out the possibility of the Act providing for ordinary as well as serious cases of disturbance of public order and tranquillity. This, as I have already indicated, is a somewhat narrow and technical approach to the question. In construing the Act, we must try to get at its aim and purpose, and before the Act is declared to be invalid, we must see whether it is capable of being so construed as to bear a reasonable meaning consistent with its validity. We therefore cannot ignore the fact that preservation of public safety is the dominant purpose of the Act and that it is a special Act providing for special measures and therefore it should not be confused with an Act which is applicable to ordinary situations and to any and every trivial case of breach of public order, 614 In my opinion, the word or is used here not so much to separate two wholly different concepts as to show that they are closely allied concepts and can be used almost inter changeably in the context. I think that public order may well be paraphrased in the context as public tranquillity and the words public safety and public order may be read as equivalent to security of the State and public tran quillity.  I will now advert once more to clause (2) of article 19 and state what I consider to be the reason for inserting in it the words matter which undermines the security of, or tends to overthrow, the State.  It is well recognized in all systems of law that the right to freedom of speech and expression or freedom of the press means that any person may write or say what he pleases so long as he does not infringe the law relating to libel or slander or to blasphemous, obscene or seditious words or writings: (see Halsbury s Laws of England, 2nd Edition, Vol. II, page 391). This is prac tically what has been said in clause (2) of article 19, with this difference only that instead of using the words law relating to sedition, the framers of the Constitution have used the words mentioned above. It is interesting to note that sedition was mentioned in the original draft of the Constitution, but subsequently that word was dropped and the words which I have quoted were inserted. I think it is not difficult to discover the reason for this change and I shall briefly state in my own words what I consider it to be. The latest pronouncement by the highest Indian tribunal as to the law of sedition is to be found in Niharendu Dutt Majumdar vs The King(1) which has been quoted again and again and in which Gwyer C.J. laid down that public disor der, or the reasonable anticipation or likelihood of public disorder, is the gist of the offence of sedition and the acts or words complained of must either incite to disorder or (1) 615 must be such as to satisfy reasonable men that is their intention or tendency.  For this view, the learned Chief Justice relied on certain observations of Fitzgerald J. in R.v. Sullivan (1), and he also added that he was content to adopt the words of that learned Judge which are to be found in every book dealing with this branch of the criminal law.  There is no doubt that what Gwyer C.J. has stated in that case represents the view of a number of Judges and authors and was also the view of Sir James Stephen in regard to whom Cave J. in his charge to the jury in a case relating to the law of sedition JR. vs Burns(2) said : The law upon the question of what is seditious and what is not is to be found stated very clearly in a book by Stephen J. who has undoubtedly a greater knowledge of crimi nal law than any other Judge who sits upon the Bench, and what he has said upon the subject of sedition was submitted to the other Judges, who sometime back were engaged with him in drafting a criminal code, and upon their report the Commissioners say that his statement of law appears to them to be stated accurately as it exists at present.  The decision of Gwyer C.J. held the field for several years until the Privy Council, dealing with a case under the Defence of India Rules, expressed the view in King Emper or vs Sadhashiv Narayan Bhalerao(3) that the test laid down by the learned Chief Justice was not applicable in India where the offence under section 124A of the Indian Penal Code should be construed with reference to the words used in that section. They also added : The word sedition  does not occur either in section 124A or in the Rule; it is only found as a marginal note to section 124A, and is not an operative part of the section, but merely provides the name by which the crime defined in the section will be known. (1) [1868] 11 Cox c.c. 44. (2) [1886] 16 cox 855. (8) 74 I.A. 616 There can be no justification for restricting the contents of the section by the marginal note. In England there is no statutory definition of sedition; its meaning and content have been laid down in many decisions, some of which are referred to by the Chief Justice, but these decisions are not relevant when you have a statutory definition of that which is termed sedition as we have in the present case. Their Lordships are unable to find anything in the language of either section 124A or the Rule which could suggest that the acts or words complained of must either incite to disorder or must be such as to satisfy reasonable men that this is their intention or tendency.  The framers of the Constitution must have therefore found themselves face to face with the dilemma as to whether the word sedition should be used in article 19 (2) and if it was to be used in what sense it was to be used. On the one hand, they must have had before their mind the very widely accepted view supported by numerous authorities that sedition was essentially an offence against public tranquil lity and was connected in some way or other with public disorder; and, on the other hand, there was the pronounce ment of the Judicial Committee that sedition as defined in the Indian Penal Code did not necessarily imply any inten tion or tendency to incite disorder. In these circumstances, it is not surprising that they decided not to use the word sedition in clause (2) but used the more general words which cover sedition and everything else which makes sedi tion such a serious offence. That sedition does undermine the security of the State is a matter which cannot admit of much doubt. That it undermines the security of the State usually through the medium of public disorder is also a matter on which eminent Judges and jurists are agreed. Therefore it is difficult to hold that public disorder or disturbance of public tranquillity are not matters which undermine the security of the State. 617 It will not be out of place to quote here the following passage from Stephen s Criminal Law of England (Vol. II, pp. 242 and 243) : It often happens, however, that the public peace is disturbed by offences which without tending to the subver sion of the existing political constitution practically subvert the authority of the Government over a greater or less local area for a longer or shorter time. The Bristol riots in 1832 and the Gordon riots in 1780 are instances of this kind. No definite line can be drawn between insur rections of this sort, ordinary riots, and unlawful assem blies. The difference between a meeting stormy enough to cause well founded fear of a breach of the peace, and a civil war the result of which may determine the course of a nation s history for centuries, is a difference of degree. Unlawful assemblies, riots, insurrections, rebellions, levying of war, are offences which run into each other, and are not capable of being marked off by perfectly definite boundaries, All of them have in common one feature, namely, that the normal tranquillity of a civilised society is in each of the cases mentioned disturbed either by actual force or at least by the show and threat of it. Another class of offences against public tranquillity are those in which no actual force is either employed or displayed, but in which steps are taken tending to cause it. These are the formation of secret societies, seditious conspiracies, libels or words spoken. Under these two heads all offences against the internal public tranquillity of the State may be arranged.  This passage brings out two matters with remarkable clarity. It shows firstly that sedition is essentially an offence against public tranquillity and secondly that broadly speaking there are two classes of offences against public tranquillity: (a) those accompanied by violence including disorders which 618 affect tranquillity of a considerable number of persons or an extensive local area, and (b) those not accompanied by violence but tending to cause it, such as seditious utter ances, seditious conspiracies, etc. Both these classes of offences are such as will undermine the security of the State or tend to overthrow it if left unchecked, and, as I have tried to point out, there is a good deal of authorita tive opinion in favour of the view that the gravity ascribed to sedition is due to the fact that it tends to seriously affect the tranquillity and security of the State. In principle, then, it would not have been logical to refer to sedition in clause (2) of article 19 and omit matters which are no less grave and which have equal potentiality for undermining the security of the State. It appears that the framers of the Constitution preferred to adopt the logical course and have used the more general and basic words which are apt to cover sedition as well as other matters which are as detrimental to the security of the State as sedition. If the Act is to be viewed as I have suggested, it is difficult to hold that section 7 (1) (c) falls outside the ambit of article 19 (2). That clause clearly states that nothing in clause (1) (a) shall affect the operation of any existing law relating to any matter which undermines the security of, or tends to overthrow, the State. I have tried to show that public disorders and disturbance of public tranquillity do undermine the security of the State and if the Act is a law aimed at preventing such disorders, it fulfils the requirement of the Constitution. It is needless to add that the word State has been defined in article 12 of the Constitution to include the Government and Parlia ment of India and the Government and Legislature of each of the States and all local or other authorities within the territory of India or under the control of the Government of India.  I find that section 20 of the impugned Act provides that the Provincial Government may by notification 619 declare that the whole or any part of the Province as may be specified in the notification is a dangerously disturbed area. This provision has some bearing on the aim and object of the Act, and we cannot overlook it when considering its scope. It may be incidentally mentioned that we have been informed that, under this section, Delhi Province has been notified to be a dangerously disturbed area.  It must be recognized that freedom of speech and expres sion is one of the most valuable rights guaranteed to a citizen by the Constitution and should be jealously guard ed by the Courts. It must also be recognised that free political discussion is essential for the proper functioning of a democratic government, and the tendency of modern jurists is to deprecate censorship though they all agree that liberty of the press is not to be confused with its licentiousness.  But the Constitution itself has pre scribed certain limits for the exercise of the freedom of speech and expression and this Court is only called upon to see whether a particular case comes within those limits. In my opinion, the law which is impugned is fully saved by article 19 (2) and if it cannot be successfully assailed it is not possible to grant the remedy which the petitioners are seeking here. As has been stated already, the order which is impugned in this case recites that the weekly Organizer has been publishing highly objectionable matter constituting a threat to public law and order and that the action which it is proposed to take against the petitioners is necessary for the purpose of preventing or combating activities prejudi cial to public safety or the maintenance of public order.  These facts are supported by an affidavit sworn by the Home Secretary to the Chief Commissioner, who also states among other things that the order in question was passed by the Chief Commissioner in consultation with the Central Press Advisory Committee, which is an independent body elected by the All India Newspaper Editors  Conference and is composed of 620 representatives of some of the leading papers such as The Hindustan Times, Statesman, etc. In my opinion, there can be no doubt that the Chief Commissioner has purported to act in this case within the sphere within which he is permitted to act under the law, and it is beyond the power of this Court to grant the reliefs claimed by the petitioners. In these circumstances, I would dismiss the petitioners  application. Petition allowed. Agent for the petitioners: Ganpat Rai. \n"
          ]
        }
      ]
    },
    {
      "cell_type": "code",
      "source": [
        "!pip install rouge-score\n",
        "!pip install rouge\n"
      ],
      "metadata": {
        "colab": {
          "base_uri": "https://localhost:8080/",
          "height": 1000
        },
        "id": "brsXCuxip_nJ",
        "outputId": "fe491ac9-4c6c-4e33-a47f-8a70e93f714a"
      },
      "id": "brsXCuxip_nJ",
      "execution_count": null,
      "outputs": [
        {
          "output_type": "display_data",
          "data": {
            "text/plain": [
              "<IPython.core.display.HTML object>"
            ],
            "text/html": [
              "\n",
              "  <style>\n",
              "    pre {\n",
              "        white-space: pre-wrap;\n",
              "    }\n",
              "  </style>\n",
              "  "
            ]
          },
          "metadata": {}
        },
        {
          "output_type": "stream",
          "name": "stdout",
          "text": [
            "Looking in indexes: https://pypi.org/simple, https://us-python.pkg.dev/colab-wheels/public/simple/\n",
            "Requirement already satisfied: rouge-score in /usr/local/lib/python3.10/dist-packages (0.1.2)\n",
            "Requirement already satisfied: absl-py in /usr/local/lib/python3.10/dist-packages (from rouge-score) (1.4.0)\n",
            "Requirement already satisfied: nltk in /usr/local/lib/python3.10/dist-packages (from rouge-score) (3.8.1)\n",
            "Requirement already satisfied: numpy in /usr/local/lib/python3.10/dist-packages (from rouge-score) (1.22.4)\n",
            "Requirement already satisfied: six>=1.14.0 in /usr/local/lib/python3.10/dist-packages (from rouge-score) (1.16.0)\n",
            "Requirement already satisfied: click in /usr/local/lib/python3.10/dist-packages (from nltk->rouge-score) (8.1.3)\n",
            "Requirement already satisfied: joblib in /usr/local/lib/python3.10/dist-packages (from nltk->rouge-score) (1.2.0)\n",
            "Requirement already satisfied: regex>=2021.8.3 in /usr/local/lib/python3.10/dist-packages (from nltk->rouge-score) (2022.10.31)\n",
            "Requirement already satisfied: tqdm in /usr/local/lib/python3.10/dist-packages (from nltk->rouge-score) (4.65.0)\n",
            "Looking in indexes: https://pypi.org/simple, https://us-python.pkg.dev/colab-wheels/public/simple/\n",
            "Requirement already satisfied: rouge in /usr/local/lib/python3.10/dist-packages (1.0.1)\n",
            "Requirement already satisfied: six in /usr/local/lib/python3.10/dist-packages (from rouge) (1.16.0)\n",
            "Looking in indexes: https://pypi.org/simple, https://us-python.pkg.dev/colab-wheels/public/simple/\n",
            "Collecting transformers\n",
            "  Downloading transformers-4.30.1-py3-none-any.whl (7.2 MB)\n",
            "\u001b[2K     \u001b[90m━━━━━━━━━━━━━━━━━━━━━━━━━━━━━━━━━━━━━━━━\u001b[0m \u001b[32m7.2/7.2 MB\u001b[0m \u001b[31m77.0 MB/s\u001b[0m eta \u001b[36m0:00:00\u001b[0m\n",
            "\u001b[?25hRequirement already satisfied: filelock in /usr/local/lib/python3.10/dist-packages (from transformers) (3.12.0)\n",
            "Collecting huggingface-hub<1.0,>=0.14.1 (from transformers)\n",
            "  Downloading huggingface_hub-0.15.1-py3-none-any.whl (236 kB)\n",
            "\u001b[2K     \u001b[90m━━━━━━━━━━━━━━━━━━━━━━━━━━━━━━━━━━━━━━\u001b[0m \u001b[32m236.8/236.8 kB\u001b[0m \u001b[31m31.2 MB/s\u001b[0m eta \u001b[36m0:00:00\u001b[0m\n",
            "\u001b[?25hRequirement already satisfied: numpy>=1.17 in /usr/local/lib/python3.10/dist-packages (from transformers) (1.22.4)\n",
            "Requirement already satisfied: packaging>=20.0 in /usr/local/lib/python3.10/dist-packages (from transformers) (23.1)\n",
            "Requirement already satisfied: pyyaml>=5.1 in /usr/local/lib/python3.10/dist-packages (from transformers) (6.0)\n",
            "Requirement already satisfied: regex!=2019.12.17 in /usr/local/lib/python3.10/dist-packages (from transformers) (2022.10.31)\n",
            "Requirement already satisfied: requests in /usr/local/lib/python3.10/dist-packages (from transformers) (2.27.1)\n",
            "Collecting tokenizers!=0.11.3,<0.14,>=0.11.1 (from transformers)\n",
            "  Downloading tokenizers-0.13.3-cp310-cp310-manylinux_2_17_x86_64.manylinux2014_x86_64.whl (7.8 MB)\n",
            "\u001b[2K     \u001b[90m━━━━━━━━━━━━━━━━━━━━━━━━━━━━━━━━━━━━━━━━\u001b[0m \u001b[32m7.8/7.8 MB\u001b[0m \u001b[31m101.8 MB/s\u001b[0m eta \u001b[36m0:00:00\u001b[0m\n",
            "\u001b[?25hCollecting safetensors>=0.3.1 (from transformers)\n",
            "  Downloading safetensors-0.3.1-cp310-cp310-manylinux_2_17_x86_64.manylinux2014_x86_64.whl (1.3 MB)\n",
            "\u001b[2K     \u001b[90m━━━━━━━━━━━━━━━━━━━━━━━━━━━━━━━━━━━━━━━━\u001b[0m \u001b[32m1.3/1.3 MB\u001b[0m \u001b[31m80.3 MB/s\u001b[0m eta \u001b[36m0:00:00\u001b[0m\n",
            "\u001b[?25hRequirement already satisfied: tqdm>=4.27 in /usr/local/lib/python3.10/dist-packages (from transformers) (4.65.0)\n",
            "Requirement already satisfied: fsspec in /usr/local/lib/python3.10/dist-packages (from huggingface-hub<1.0,>=0.14.1->transformers) (2023.4.0)\n",
            "Requirement already satisfied: typing-extensions>=3.7.4.3 in /usr/local/lib/python3.10/dist-packages (from huggingface-hub<1.0,>=0.14.1->transformers) (4.5.0)\n",
            "Requirement already satisfied: urllib3<1.27,>=1.21.1 in /usr/local/lib/python3.10/dist-packages (from requests->transformers) (1.26.15)\n",
            "Requirement already satisfied: certifi>=2017.4.17 in /usr/local/lib/python3.10/dist-packages (from requests->transformers) (2022.12.7)\n",
            "Requirement already satisfied: charset-normalizer~=2.0.0 in /usr/local/lib/python3.10/dist-packages (from requests->transformers) (2.0.12)\n",
            "Requirement already satisfied: idna<4,>=2.5 in /usr/local/lib/python3.10/dist-packages (from requests->transformers) (3.4)\n",
            "Installing collected packages: tokenizers, safetensors, huggingface-hub, transformers\n",
            "Successfully installed huggingface-hub-0.15.1 safetensors-0.3.1 tokenizers-0.13.3 transformers-4.30.1\n",
            "Looking in indexes: https://pypi.org/simple, https://us-python.pkg.dev/colab-wheels/public/simple/\n",
            "Collecting sentencepiece\n",
            "  Downloading sentencepiece-0.1.99-cp310-cp310-manylinux_2_17_x86_64.manylinux2014_x86_64.whl (1.3 MB)\n",
            "\u001b[2K     \u001b[90m━━━━━━━━━━━━━━━━━━━━━━━━━━━━━━━━━━━━━━━━\u001b[0m \u001b[32m1.3/1.3 MB\u001b[0m \u001b[31m67.6 MB/s\u001b[0m eta \u001b[36m0:00:00\u001b[0m\n",
            "\u001b[?25hInstalling collected packages: sentencepiece\n",
            "Successfully installed sentencepiece-0.1.99\n",
            "Looking in indexes: https://pypi.org/simple, https://us-python.pkg.dev/colab-wheels/public/simple/\n",
            "Requirement already satisfied: torch in /usr/local/lib/python3.10/dist-packages (2.0.1+cu118)\n",
            "Requirement already satisfied: filelock in /usr/local/lib/python3.10/dist-packages (from torch) (3.12.0)\n",
            "Requirement already satisfied: typing-extensions in /usr/local/lib/python3.10/dist-packages (from torch) (4.5.0)\n",
            "Requirement already satisfied: sympy in /usr/local/lib/python3.10/dist-packages (from torch) (1.11.1)\n",
            "Requirement already satisfied: networkx in /usr/local/lib/python3.10/dist-packages (from torch) (3.1)\n",
            "Requirement already satisfied: jinja2 in /usr/local/lib/python3.10/dist-packages (from torch) (3.1.2)\n",
            "Requirement already satisfied: triton==2.0.0 in /usr/local/lib/python3.10/dist-packages (from torch) (2.0.0)\n",
            "Requirement already satisfied: cmake in /usr/local/lib/python3.10/dist-packages (from triton==2.0.0->torch) (3.25.2)\n",
            "Requirement already satisfied: lit in /usr/local/lib/python3.10/dist-packages (from triton==2.0.0->torch) (16.0.5)\n",
            "Requirement already satisfied: MarkupSafe>=2.0 in /usr/local/lib/python3.10/dist-packages (from jinja2->torch) (2.1.2)\n",
            "Requirement already satisfied: mpmath>=0.19 in /usr/local/lib/python3.10/dist-packages (from sympy->torch) (1.3.0)\n"
          ]
        }
      ]
    },
    {
      "cell_type": "code",
      "source": [
        "from rouge import Rouge\n",
        "from rouge_score import rouge_scorer"
      ],
      "metadata": {
        "colab": {
          "base_uri": "https://localhost:8080/",
          "height": 17
        },
        "id": "EDxHv1KYq2th",
        "outputId": "bfd09199-4da5-4e24-8e64-bd5d1c0e95cd"
      },
      "id": "EDxHv1KYq2th",
      "execution_count": null,
      "outputs": [
        {
          "output_type": "display_data",
          "data": {
            "text/plain": [
              "<IPython.core.display.HTML object>"
            ],
            "text/html": [
              "\n",
              "  <style>\n",
              "    pre {\n",
              "        white-space: pre-wrap;\n",
              "    }\n",
              "  </style>\n",
              "  "
            ]
          },
          "metadata": {}
        }
      ]
    },
    {
      "cell_type": "code",
      "source": [
        "rouge = Rouge()\n",
        "\n",
        "scores = rouge.get_scores(summary_model, actual_summary)\n",
        "print(scores)"
      ],
      "metadata": {
        "colab": {
          "base_uri": "https://localhost:8080/",
          "height": 52
        },
        "id": "f1V4h_Y4qS4I",
        "outputId": "059130c2-b182-476f-ec93-75129ae35160"
      },
      "id": "f1V4h_Y4qS4I",
      "execution_count": null,
      "outputs": [
        {
          "output_type": "display_data",
          "data": {
            "text/plain": [
              "<IPython.core.display.HTML object>"
            ],
            "text/html": [
              "\n",
              "  <style>\n",
              "    pre {\n",
              "        white-space: pre-wrap;\n",
              "    }\n",
              "  </style>\n",
              "  "
            ]
          },
          "metadata": {}
        },
        {
          "output_type": "stream",
          "name": "stdout",
          "text": [
            "[{'rouge-1': {'r': 0.43548387096774194, 'p': 0.38028169014084506, 'f': 0.4060150326168806}, 'rouge-2': {'r': 0.15942028985507245, 'p': 0.13253012048192772, 'f': 0.1447368371476802}, 'rouge-l': {'r': 0.41935483870967744, 'p': 0.36619718309859156, 'f': 0.3909774386319182}}]\n"
          ]
        }
      ]
    },
    {
      "cell_type": "code",
      "source": [
        "import matplotlib.pyplot as plt\n",
        "\n",
        "# Assuming 'scores' is a list of dictionaries containing Rouge scores\n",
        "# Extracting the Rouge-1, Rouge-2, and Rouge-L scores\n",
        "rouge_1_score = scores[0]['rouge-1']['f']\n",
        "rouge_2_score = scores[0]['rouge-2']['f']\n",
        "rouge_l_score = scores[0]['rouge-l']['f']\n",
        "\n",
        "# Creating a bar plot for the Rouge scores\n",
        "plt.bar(['Rouge-1', 'Rouge-2', 'Rouge-L'], [rouge_1_score, rouge_2_score, rouge_l_score])\n",
        "\n",
        "# Adding labels and title to the plot\n",
        "plt.xlabel('Rouge Score')\n",
        "plt.ylabel('Score')\n",
        "plt.title('Rouge-1, Rouge-2, and Rouge-L Scores')\n",
        "\n",
        "# Displaying the plot\n",
        "plt.show()\n"
      ],
      "metadata": {
        "colab": {
          "base_uri": "https://localhost:8080/",
          "height": 472
        },
        "id": "hZR-hhJ2vZrm",
        "outputId": "dcf78ddc-b878-478d-de13-2af66a5460cb"
      },
      "id": "hZR-hhJ2vZrm",
      "execution_count": null,
      "outputs": [
        {
          "output_type": "display_data",
          "data": {
            "text/plain": [
              "<IPython.core.display.HTML object>"
            ],
            "text/html": [
              "\n",
              "  <style>\n",
              "    pre {\n",
              "        white-space: pre-wrap;\n",
              "    }\n",
              "  </style>\n",
              "  "
            ]
          },
          "metadata": {}
        },
        {
          "output_type": "display_data",
          "data": {
            "text/plain": [
              "<Figure size 640x480 with 1 Axes>"
            ],
            "image/png": "[encoded data removed]"
          },
          "metadata": {}
        }
      ]
    },
    {
      "cell_type": "code",
      "source": [],
      "metadata": {
        "id": "u0L2s7WYhGB2"
      },
      "id": "u0L2s7WYhGB2",
      "execution_count": null,
      "outputs": []
    }
  ],
  "metadata": {
    "kernelspec": {
      "display_name": "Python 3",
      "name": "python3"
    },
    "language_info": {
      "codemirror_mode": {
        "name": "ipython",
        "version": 3
      },
      "file_extension": ".py",
      "mimetype": "text/x-python",
      "name": "python",
      "nbconvert_exporter": "python",
      "pygments_lexer": "ipython3",
      "version": "3.8.8"
    },
    "colab": {
      "provenance": [],
      "gpuType": "T4"
    },
    "accelerator": "GPU"
  },
  "nbformat": 4,
  "nbformat_minor": 5
}